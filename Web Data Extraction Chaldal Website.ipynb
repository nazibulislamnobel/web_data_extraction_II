{
 "cells": [
  {
   "cell_type": "code",
   "execution_count": 230,
   "id": "79450750",
   "metadata": {},
   "outputs": [],
   "source": [
    "import os\n",
    "import pandas as pd"
   ]
  },
  {
   "cell_type": "code",
   "execution_count": null,
   "id": "7a9c9606",
   "metadata": {},
   "outputs": [],
   "source": [
    "df = pd.read_excel(\"C:\\\\Nobel\\\\chaldal offer.xlsx\", header=None)"
   ]
  },
  {
   "cell_type": "code",
   "execution_count": 231,
   "id": "5b8fdc96",
   "metadata": {},
   "outputs": [],
   "source": [
    "df = df.replace('Add to bag', '')"
   ]
  },
  {
   "cell_type": "code",
   "execution_count": 232,
   "id": "4da0bc73",
   "metadata": {},
   "outputs": [],
   "source": [
    "df['1'] = df[0].shift(-1)\n",
    "df['2'] = df[0].shift(-2)\n",
    "df['3'] = df[0].shift(-3)\n",
    "df['4'] = df[0].shift(-4)"
   ]
  },
  {
   "cell_type": "code",
   "execution_count": 233,
   "id": "741b502e",
   "metadata": {},
   "outputs": [],
   "source": [
    "df['2'] = df['2'].fillna(\"\")\n",
    "df1 = df[~df['2'].str.contains('৳', na=False)]"
   ]
  },
  {
   "cell_type": "code",
   "execution_count": 234,
   "id": "8083f7ea",
   "metadata": {},
   "outputs": [],
   "source": [
    "df['3'] = df['3'].fillna(\"\")\n",
    "df2 = df1[df1['3'].str.contains('৳', na=False)]"
   ]
  },
  {
   "cell_type": "code",
   "execution_count": 235,
   "id": "f9e73eb5",
   "metadata": {},
   "outputs": [],
   "source": [
    "df3 = df2.drop(df.columns[0], axis=1)"
   ]
  },
  {
   "cell_type": "code",
   "execution_count": 236,
   "id": "57c3c5b2",
   "metadata": {},
   "outputs": [],
   "source": [
    "df3.columns = ['Product Name', 'UOM', 'Discount Price', 'Regular Price']"
   ]
  },
  {
   "cell_type": "code",
   "execution_count": 237,
   "id": "84c4984f",
   "metadata": {},
   "outputs": [],
   "source": [
    "df3.to_excel('chaldal special offer.xlsx', index=False)"
   ]
  }
 ],
 "metadata": {
  "kernelspec": {
   "display_name": "Python 3 (ipykernel)",
   "language": "python",
   "name": "python3"
  },
  "language_info": {
   "codemirror_mode": {
    "name": "ipython",
    "version": 3
   },
   "file_extension": ".py",
   "mimetype": "text/x-python",
   "name": "python",
   "nbconvert_exporter": "python",
   "pygments_lexer": "ipython3",
   "version": "3.10.9"
  }
 },
 "nbformat": 4,
 "nbformat_minor": 5
}
